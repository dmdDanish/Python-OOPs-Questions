{
  "nbformat": 4,
  "nbformat_minor": 0,
  "metadata": {
    "colab": {
      "provenance": []
    },
    "kernelspec": {
      "name": "python3",
      "display_name": "Python 3"
    },
    "language_info": {
      "name": "python"
    }
  },
  "cells": [
    {
      "cell_type": "code",
      "execution_count": 5,
      "metadata": {
        "id": "J0Blbow_EDsY"
      },
      "outputs": [],
      "source": [
        "#1 Create a parent class Animal with a method speak() that prints a generic message. Create a child class Dog  that overrides the speak() method to print \"Bark!\".\n",
        "\n",
        "# Parent class\n",
        "class Animal:\n",
        "    def speak(self):\n",
        "        print(\"The animal makes a sound.\")\n",
        "\n",
        "# Child class\n",
        "class Dog(Animal):\n",
        "    def speak(self):\n",
        "        print(\"Bark!\")\n",
        "\n"
      ]
    },
    {
      "cell_type": "code",
      "source": [
        "\n"
      ],
      "metadata": {
        "colab": {
          "base_uri": "https://localhost:8080/"
        },
        "id": "GU4agltiEWWQ",
        "outputId": "74129485-010b-4146-d33d-747e567bcfff"
      },
      "execution_count": 4,
      "outputs": [
        {
          "output_type": "stream",
          "name": "stdout",
          "text": [
            "The animal makes a sound.\n",
            "Bark!\n"
          ]
        }
      ]
    },
    {
      "cell_type": "code",
      "source": [
        "#2 2. Write a program to create an abstract class Shape with a method area(). Derive classes Circle and Rectangle\n",
        "\n",
        "\n",
        "from abc import ABC, abstractmethod\n",
        "import math\n",
        "\n",
        "# Abstract base class\n",
        "class Shape(ABC):\n",
        "    @abstractmethod\n",
        "    def area(self):\n",
        "        pass\n",
        "\n",
        "# Derived class: Circle\n",
        "class Circle(Shape):\n",
        "    def __init__(self, radius):\n",
        "        self.radius = radius\n",
        "\n",
        "    def area(self):\n",
        "        return math.pi * self.radius ** 2\n",
        "\n",
        "# Derived class: Rectangle\n",
        "class Rectangle(Shape):\n",
        "    def __init__(self, width, height):\n",
        "        self.width = width\n",
        "        self.height = height\n",
        "\n",
        "    def area(self):\n",
        "        return self.width * self.height\n",
        "\n",
        "\n",
        "c = Circle(5)\n",
        "print(\"Circle area:\", c.area())\n",
        "\n",
        "r = Rectangle(4, 6)\n",
        "print(\"Rectangle area:\", r.area())\n"
      ],
      "metadata": {
        "colab": {
          "base_uri": "https://localhost:8080/"
        },
        "id": "SCWoz9sxFYkZ",
        "outputId": "712063c7-4319-44a2-aaeb-e4c197e9020d"
      },
      "execution_count": 7,
      "outputs": [
        {
          "output_type": "stream",
          "name": "stdout",
          "text": [
            "Circle area: 78.53981633974483\n",
            "Rectangle area: 24\n"
          ]
        }
      ]
    },
    {
      "cell_type": "code",
      "source": [],
      "metadata": {
        "id": "lV-B6tKfF07G"
      },
      "execution_count": null,
      "outputs": []
    },
    {
      "cell_type": "code",
      "source": [
        "#3 3. Implement a multi-level inheritance scenario where a class Vehicle has an attribute type. Derive a class Car and further derive a class ElectricCar that adds a battery attribute\n",
        "\n",
        "# Base class\n",
        "class Vehicle:\n",
        "    def __init__(self, vehicle_type):\n",
        "        self.type = vehicle_type\n",
        "\n",
        "# Derived class from Vehicle\n",
        "class Car(Vehicle):\n",
        "    def __init__(self, vehicle_type, brand):\n",
        "        super().__init__(vehicle_type)\n",
        "        self.brand = brand\n",
        "\n",
        "# Further derived class from Car\n",
        "class ElectricCar(Car):\n",
        "    def __init__(self, vehicle_type, brand, battery_capacity):\n",
        "        super().__init__(vehicle_type, brand)\n",
        "        self.battery = battery_capacity\n",
        "\n",
        "    def display_info(self):\n",
        "        print(f\"Type: {self.type}\")\n",
        "        print(f\"Brand: {self.brand}\")\n",
        "        print(f\"Battery Capacity: {self.battery} kWh\")\n",
        "\n",
        "\n",
        "e_car = ElectricCar(\"Four Wheeler\", \"Tesla\", 75)\n",
        "e_car.display_info()\n"
      ],
      "metadata": {
        "colab": {
          "base_uri": "https://localhost:8080/"
        },
        "id": "iHmQFh6VF_iC",
        "outputId": "661daa0c-6941-4c1b-b0f1-b37a7b2a8bf7"
      },
      "execution_count": 8,
      "outputs": [
        {
          "output_type": "stream",
          "name": "stdout",
          "text": [
            "Type: Four Wheeler\n",
            "Brand: Tesla\n",
            "Battery Capacity: 75 kWh\n"
          ]
        }
      ]
    },
    {
      "cell_type": "code",
      "source": [
        "#4. Demonstrate polymorphism by creating a base class Bird with a method fly(). Create two derived classes Sparrow and Penguin that override the fly() method.\n",
        "\n",
        "# Base class\n",
        "class Bird:\n",
        "    def fly(self):\n",
        "        print(\"Some bird is flying.\")\n",
        "\n",
        "# Derived class 1\n",
        "class Sparrow(Bird):\n",
        "    def fly(self):\n",
        "        print(\"Sparrow flies high in the sky.\")\n",
        "\n",
        "# Derived class 2\n",
        "class Penguin(Bird):\n",
        "    def fly(self):\n",
        "        print(\"Penguins cannot fly, they waddle and swim.\")\n",
        "\n",
        "# Function demonstrating polymorphism\n",
        "def bird_fly(bird):\n",
        "    bird.fly()\n",
        "\n",
        "sparrow = Sparrow()\n",
        "penguin = Penguin()\n",
        "\n",
        "bird_fly(sparrow)\n",
        "bird_fly(penguin)\n"
      ],
      "metadata": {
        "colab": {
          "base_uri": "https://localhost:8080/"
        },
        "id": "RMdsWnvTGWaO",
        "outputId": "27d02601-0e9b-41e3-c768-8c6c3cbfbb6b"
      },
      "execution_count": 9,
      "outputs": [
        {
          "output_type": "stream",
          "name": "stdout",
          "text": [
            "Sparrow flies high in the sky.\n",
            "Penguins cannot fly, they waddle and swim.\n"
          ]
        }
      ]
    },
    {
      "cell_type": "code",
      "source": [
        "#5. Write a program to demonstrate encapsulation by creating a class BankAccount with private attributes balance and methods to deposit, withdraw, and check balance\n",
        "\n",
        "class BankAccount:\n",
        "    def __init__(self, initial_balance=0):\n",
        "        self.__balance = initial_balance  # private attribute\n",
        "\n",
        "    def deposit(self, amount):\n",
        "        if amount > 0:\n",
        "            self.__balance += amount\n",
        "            print(f\"Deposited: {amount}\")\n",
        "        else:\n",
        "            print(\"Deposit amount must be positive.\")\n",
        "\n",
        "    def withdraw(self, amount):\n",
        "        if 0 < amount <= self.__balance:\n",
        "            self.__balance -= amount\n",
        "            print(f\"Withdrawn: {amount}\")\n",
        "        else:\n",
        "            print(\"Insufficient funds or invalid amount.\")\n",
        "\n",
        "    def check_balance(self):\n",
        "        print(f\"Current Balance: {self.__balance}\")\n",
        "\n",
        "account = BankAccount(100)\n",
        "account.check_balance()\n",
        "account.deposit(50)\n",
        "account.withdraw(30)\n",
        "account.check_balance()\n",
        "\n",
        "\n"
      ],
      "metadata": {
        "colab": {
          "base_uri": "https://localhost:8080/"
        },
        "id": "RocCwJ8dHAhB",
        "outputId": "29d84c37-2fba-4dcb-ec46-4be8ee10576c"
      },
      "execution_count": 10,
      "outputs": [
        {
          "output_type": "stream",
          "name": "stdout",
          "text": [
            "Current Balance: 100\n",
            "Deposited: 50\n",
            "Withdrawn: 30\n",
            "Current Balance: 120\n"
          ]
        }
      ]
    },
    {
      "cell_type": "code",
      "source": [
        "#6. Demonstrate runtime polymorphism using a method play() in a base class Instrument. Derive classes Guitar and Piano that implement their own version of play().\n",
        "\n",
        "# Base class\n",
        "class Instrument:\n",
        "    def play(self):\n",
        "        print(\"The instrument is playing a sound.\")\n",
        "\n",
        "# Derived class: Guitar\n",
        "class Guitar(Instrument):\n",
        "    def play(self):\n",
        "        print(\"Strumming the guitar strings.\")\n",
        "\n",
        "# Derived class: Piano\n",
        "class Piano(Instrument):\n",
        "    def play(self):\n",
        "        print(\"Pressing the piano keys.\")\n",
        "\n",
        "# Function demonstrating runtime polymorphism\n",
        "def start_playing(instrument: Instrument):\n",
        "    instrument.play()\n",
        "\n",
        "\n",
        "g = Guitar()\n",
        "p = Piano()\n",
        "\n",
        "start_playing(g)\n",
        "start_playing(p)\n"
      ],
      "metadata": {
        "colab": {
          "base_uri": "https://localhost:8080/"
        },
        "id": "RyAktoh3HuBg",
        "outputId": "096e7513-8a77-44b6-a920-1a50a34d3ab9"
      },
      "execution_count": 11,
      "outputs": [
        {
          "output_type": "stream",
          "name": "stdout",
          "text": [
            "Strumming the guitar strings.\n",
            "Pressing the piano keys.\n"
          ]
        }
      ]
    },
    {
      "cell_type": "code",
      "source": [
        "#7 Create a class MathOperations with a class method add_numbers() to add two numbers and a static method subtract_numbers() to subtract two numbers.\n",
        "\n",
        "class MathOperations:\n",
        "    @classmethod\n",
        "    def add_numbers(cls, a, b):\n",
        "        return a + b\n",
        "\n",
        "    @staticmethod\n",
        "    def subtract_numbers(a, b):\n",
        "        return a - b\n",
        "\n",
        "sum_result = MathOperations.add_numbers(10, 5)\n",
        "print(\"Sum:\", sum_result)\n",
        "\n",
        "diff_result = MathOperations.subtract_numbers(10, 5)\n",
        "print(\"Difference:\", diff_result)\n"
      ],
      "metadata": {
        "colab": {
          "base_uri": "https://localhost:8080/"
        },
        "id": "qjbwEv1RIEGx",
        "outputId": "cdab1a9b-1fef-4106-a85b-bee4897d3dc5"
      },
      "execution_count": 12,
      "outputs": [
        {
          "output_type": "stream",
          "name": "stdout",
          "text": [
            "Sum: 15\n",
            "Difference: 5\n"
          ]
        }
      ]
    },
    {
      "cell_type": "code",
      "source": [
        "#8. Implement a class Person with a class method to count the total number of persons created.\n",
        "\n",
        "class Person:\n",
        "    count = 0  # Class variable to track number of persons\n",
        "\n",
        "    def __init__(self, name):\n",
        "        self.name = name\n",
        "        Person.count += 1  # Increment count whenever a new Person is created\n",
        "\n",
        "    @classmethod\n",
        "    def total_persons(cls):\n",
        "        return cls.count\n",
        "\n",
        "\n",
        "p1 = Person(\"Alice\")\n",
        "p2 = Person(\"Bob\")\n",
        "p3 = Person(\"Charlie\")\n",
        "\n",
        "print(\"Total persons created:\", Person.total_persons())\n"
      ],
      "metadata": {
        "colab": {
          "base_uri": "https://localhost:8080/"
        },
        "id": "vurxHkgeIacA",
        "outputId": "8fabcd7d-3226-49fe-fd14-e4e7fe1ebc8d"
      },
      "execution_count": 13,
      "outputs": [
        {
          "output_type": "stream",
          "name": "stdout",
          "text": [
            "Total persons created: 3\n"
          ]
        }
      ]
    },
    {
      "cell_type": "code",
      "source": [
        "#9 Write a class Fraction with attributes numerator and denominator. Override the str method to display the fraction as \"numerator/denominator\".\n",
        "\n",
        "class Fraction:\n",
        "    def __init__(self, numerator, denominator):\n",
        "        if denominator == 0:\n",
        "            raise ValueError(\"Denominator cannot be zero.\")\n",
        "        self.numerator = numerator\n",
        "        self.denominator = denominator\n",
        "\n",
        "    def __str__(self):\n",
        "        return f\"{self.numerator}/{self.denominator}\"\n",
        "\n",
        "\n",
        "f1 = Fraction(3, 4)\n",
        "print(f1)\n",
        "\n",
        "f2 = Fraction(7, 1)\n",
        "print(f2)\n"
      ],
      "metadata": {
        "colab": {
          "base_uri": "https://localhost:8080/"
        },
        "id": "_ZEm_IivIozg",
        "outputId": "7d639505-fa7a-431d-b90b-10c225035b67"
      },
      "execution_count": 14,
      "outputs": [
        {
          "output_type": "stream",
          "name": "stdout",
          "text": [
            "3/4\n",
            "7/1\n"
          ]
        }
      ]
    },
    {
      "cell_type": "code",
      "source": [
        "#10. Demonstrate operator overloading by creating a class Vector and overriding the add method to add two vectors.\n",
        "\n",
        "class Vector:\n",
        "    def __init__(self, x, y):\n",
        "        self.x = x\n",
        "        self.y = y\n",
        "\n",
        "    # Operator overloading for '+'\n",
        "    def __add__(self, other):\n",
        "        if isinstance(other, Vector):\n",
        "            return Vector(self.x + other.x, self.y + other.y)\n",
        "        return NotImplemented\n",
        "\n",
        "    def __str__(self):\n",
        "        return f\"({self.x}, {self.y})\"\n",
        "\n",
        "\n",
        "v1 = Vector(2, 3)\n",
        "v2 = Vector(4, 5)\n",
        "v3 = v1 + v2  # Uses __add__\n",
        "\n",
        "print(\"v1:\", v1)\n",
        "print(\"v2:\", v2)\n",
        "print(\"v1 + v2 =\", v3)\n"
      ],
      "metadata": {
        "colab": {
          "base_uri": "https://localhost:8080/"
        },
        "id": "0YoWzGmlJHwb",
        "outputId": "b2830436-1a17-4e54-c730-9642f24b2a01"
      },
      "execution_count": 15,
      "outputs": [
        {
          "output_type": "stream",
          "name": "stdout",
          "text": [
            "v1: (2, 3)\n",
            "v2: (4, 5)\n",
            "v1 + v2 = (6, 8)\n"
          ]
        }
      ]
    },
    {
      "cell_type": "code",
      "source": [
        "#11. Create a class Person with attributes name and age. Add a method greet() that prints \"Hello, my name is {name} and I am {age} years old.\"\n",
        "\n",
        "class Person:\n",
        "    def __init__(self, name, age):\n",
        "        self.name = name\n",
        "        self.age = age\n",
        "\n",
        "    def greet(self):\n",
        "        print(f\"Hello, my name is {self.name} and I am {self.age} years old.\")\n",
        "\n",
        "\n",
        "p = Person(\"Danish\", 30)\n",
        "p.greet()"
      ],
      "metadata": {
        "colab": {
          "base_uri": "https://localhost:8080/"
        },
        "id": "Z_uoLVOhJh3I",
        "outputId": "a0b8ed5e-c588-43cf-c0aa-e2cb7aac72cb"
      },
      "execution_count": 17,
      "outputs": [
        {
          "output_type": "stream",
          "name": "stdout",
          "text": [
            "Hello, my name is Danish and I am 30 years old.\n"
          ]
        }
      ]
    },
    {
      "cell_type": "code",
      "source": [
        "#12. Implement a class Student with attributes name and grades. Create a method average_grade() to compute the average of the grades.\n",
        "\n",
        "class Student:\n",
        "    def __init__(self, name, grades):\n",
        "        self.name = name\n",
        "        self.grades = grades  # Expecting a list of numbers\n",
        "\n",
        "    def average_grade(self):\n",
        "        if not self.grades:\n",
        "            return 0  # Avoid division by zero if no grades\n",
        "        return sum(self.grades) / len(self.grades)\n",
        "\n",
        "\n",
        "student = Student(\"John\", [85, 90, 78, 92])\n",
        "print(f\"{student.name}'s average grade is: {student.average_grade():.2f}\")\n"
      ],
      "metadata": {
        "colab": {
          "base_uri": "https://localhost:8080/"
        },
        "id": "wm5UF9azJ0lo",
        "outputId": "f0ba5dc8-6999-4101-91da-694a0357af1d"
      },
      "execution_count": 18,
      "outputs": [
        {
          "output_type": "stream",
          "name": "stdout",
          "text": [
            "John's average grade is: 86.25\n"
          ]
        }
      ]
    },
    {
      "cell_type": "code",
      "source": [
        "#13. Create a class Rectangle with methods set_dimensions() to set the dimensions and area() to calculate the area.\n",
        "\n",
        "class Rectangle:\n",
        "    def __init__(self):\n",
        "        self.width = 0\n",
        "        self.height = 0\n",
        "\n",
        "    def set_dimensions(self, width, height):\n",
        "        self.width = width\n",
        "        self.height = height\n",
        "\n",
        "    def area(self):\n",
        "        return self.width * self.height\n",
        "\n",
        "rect = Rectangle()\n",
        "rect.set_dimensions(5, 10)\n",
        "print(\"Area of rectangle:\", rect.area())\n"
      ],
      "metadata": {
        "colab": {
          "base_uri": "https://localhost:8080/"
        },
        "id": "5iDmldlgKGiJ",
        "outputId": "082088d4-b4df-4c39-96aa-0a97a162db81"
      },
      "execution_count": 19,
      "outputs": [
        {
          "output_type": "stream",
          "name": "stdout",
          "text": [
            "Area of rectangle: 50\n"
          ]
        }
      ]
    },
    {
      "cell_type": "code",
      "source": [
        "#14 Create a class Employee with a method calculate_salary() that computes the salary based on hours worked and hourly rate. Create a derived class Manager that adds a bonus to the salary.\n",
        "\n",
        "class Employee:\n",
        "    def __init__(self, name, hours_worked, hourly_rate):\n",
        "        self.name = name\n",
        "        self.hours_worked = hours_worked\n",
        "        self.hourly_rate = hourly_rate\n",
        "\n",
        "    def calculate_salary(self):\n",
        "        return self.hours_worked * self.hourly_rate\n",
        "\n",
        "class Manager(Employee):\n",
        "    def __init__(self, name, hours_worked, hourly_rate, bonus):\n",
        "        super().__init__(name, hours_worked, hourly_rate)\n",
        "        self.bonus = bonus\n",
        "\n",
        "    def calculate_salary(self):\n",
        "        base_salary = super().calculate_salary()\n",
        "        return base_salary + self.bonus\n",
        "\n",
        "\n",
        "emp = Employee(\"John\", 40, 20)\n",
        "mgr = Manager(\"Alice\", 40, 30, 500)\n",
        "\n",
        "print(f\"{emp.name}'s salary: ${emp.calculate_salary()}\")\n",
        "print(f\"{mgr.name}'s salary: ${mgr.calculate_salary()}\")\n"
      ],
      "metadata": {
        "colab": {
          "base_uri": "https://localhost:8080/"
        },
        "id": "gfZU6Lv1KTJ7",
        "outputId": "defef02c-186b-4be2-9838-3340cfaa116b"
      },
      "execution_count": 20,
      "outputs": [
        {
          "output_type": "stream",
          "name": "stdout",
          "text": [
            "John's salary: $800\n",
            "Alice's salary: $1700\n"
          ]
        }
      ]
    },
    {
      "cell_type": "code",
      "source": [
        "#15. Create a class Product with attributes name, price, and quantity. Implement a method total_price() that calculates the total price of the product.\n",
        "\n",
        "class Product:\n",
        "    def __init__(self, name, price, quantity):\n",
        "        self.name = name\n",
        "        self.price = price\n",
        "        self.quantity = quantity\n",
        "\n",
        "    def total_price(self):\n",
        "        return self.price * self.quantity\n",
        "\n",
        "product = Product(\"Laptop\", 1200, 3)\n",
        "print(f\"Total price for {product.quantity} {product.name}(s): ${product.total_price()}\")\n",
        "\n"
      ],
      "metadata": {
        "colab": {
          "base_uri": "https://localhost:8080/"
        },
        "id": "82PNuQiiK6pa",
        "outputId": "e24c8ca0-f695-4244-8822-d8d6089a69a5"
      },
      "execution_count": 21,
      "outputs": [
        {
          "output_type": "stream",
          "name": "stdout",
          "text": [
            "Total price for 3 Laptop(s): $3600\n"
          ]
        }
      ]
    },
    {
      "cell_type": "code",
      "source": [
        "#16 Create a class Animal with an abstract method sound(). Create two derived classes Cow and Sheep that implement the sound() method.\n",
        "\n",
        "from abc import ABC, abstractmethod\n",
        "\n",
        "# Abstract base class\n",
        "class Animal(ABC):\n",
        "    @abstractmethod\n",
        "    def sound(self):\n",
        "        pass\n",
        "\n",
        "# Derived class Cow\n",
        "class Cow(Animal):\n",
        "    def sound(self):\n",
        "        print(\"Moo\")\n",
        "\n",
        "# Derived class Sheep\n",
        "class Sheep(Animal):\n",
        "    def sound(self):\n",
        "        print(\"Baa\")\n",
        "\n",
        "\n",
        "cow = Cow()\n",
        "sheep = Sheep()\n",
        "\n",
        "cow.sound()\n",
        "sheep.sound()\n"
      ],
      "metadata": {
        "colab": {
          "base_uri": "https://localhost:8080/"
        },
        "id": "xjf1CIubLXKI",
        "outputId": "7a794d30-edc8-4394-ac05-7e76f82d40ec"
      },
      "execution_count": 22,
      "outputs": [
        {
          "output_type": "stream",
          "name": "stdout",
          "text": [
            "Moo\n",
            "Baa\n"
          ]
        }
      ]
    },
    {
      "cell_type": "code",
      "source": [
        "#17. Create a class Book with attributes title, author, and year_published. Add a method get_book_info() that returns a formatted string with the book's details.\n",
        "\n",
        "class Book:\n",
        "    def __init__(self, title, author, year_published):\n",
        "        self.title = title\n",
        "        self.author = author\n",
        "        self.year_published = year_published\n",
        "\n",
        "    def get_book_info(self):\n",
        "        return f\"'{self.title}' by {self.author}, published in {self.year_published}\"\n",
        "\n",
        "book = Book(\"To Kill a Mockingbird\", \"Harper Lee\", 1960)\n",
        "print(book.get_book_info())\n",
        "\n"
      ],
      "metadata": {
        "colab": {
          "base_uri": "https://localhost:8080/"
        },
        "id": "eOMoTgEaLpDJ",
        "outputId": "1cca69c5-114b-40cb-b299-3413f2737d2c"
      },
      "execution_count": 24,
      "outputs": [
        {
          "output_type": "stream",
          "name": "stdout",
          "text": [
            "'To Kill a Mockingbird' by Harper Lee, published in 1960\n"
          ]
        }
      ]
    },
    {
      "cell_type": "code",
      "source": [
        "#18. Create a class House with attributes address and price. Create a derived class Mansion that adds an attribute number_of_rooms.\n",
        "\n",
        "class House:\n",
        "    def __init__(self, address, price):\n",
        "        self.address = address\n",
        "        self.price = price\n",
        "\n",
        "class Mansion(House):\n",
        "    def __init__(self, address, price, number_of_rooms):\n",
        "        super().__init__(address, price)\n",
        "        self.number_of_rooms = number_of_rooms\n",
        "\n",
        "    def display_info(self):\n",
        "        print(f\"Address: {self.address}\")\n",
        "        print(f\"Price: ${self.price}\")\n",
        "        print(f\"Number of Rooms: {self.number_of_rooms}\")\n",
        "\n",
        "mansion = Mansion(\"123 Luxury St\", 1_500_000, 10)\n",
        "mansion.display_info()\n",
        "\n"
      ],
      "metadata": {
        "colab": {
          "base_uri": "https://localhost:8080/"
        },
        "id": "znyztPZPL98M",
        "outputId": "e2b02807-2d41-4221-f739-a0c4aab66759"
      },
      "execution_count": 25,
      "outputs": [
        {
          "output_type": "stream",
          "name": "stdout",
          "text": [
            "Address: 123 Luxury St\n",
            "Price: $1500000\n",
            "Number of Rooms: 10\n"
          ]
        }
      ]
    },
    {
      "cell_type": "code",
      "source": [],
      "metadata": {
        "id": "X1jPbxH2L3kd"
      },
      "execution_count": null,
      "outputs": []
    },
    {
      "cell_type": "markdown",
      "source": [
        "Theory\n"
      ],
      "metadata": {
        "id": "3rX1XAuuMWeU"
      }
    },
    {
      "cell_type": "markdown",
      "source": [
        "1. 1. What is Object-Oriented Programming (OOP) in phyton\n",
        "\n",
        "Answer-- Object-Oriented Programming (OOP) in Python is a programming approach that organizes code using classes and objects to model real-world things and behaviors. It helps make your code more modular, reusable, and easier to maintain.\n",
        "\n",
        "\n",
        "2. What is a Class in Object-Oriented Programming (OOP)?\n",
        "Answer--  A class is a blueprint or template for creating objects in object-oriented programming. It defines the attributes (data) and methods (functions) that the objects created from the class will have.\n",
        "\n",
        "\n",
        "3 What is an object in OOP ?\n",
        "\n",
        "Answer-- An object is an instance of a class. It represents a specific thing created using the blueprint defined by the class.\n",
        "\n",
        "\n",
        "4. What is the difference between abstraction and encapsulation ?\n",
        "\n",
        "Answer-- Abstract\n",
        "Hides complex details, shows only the relevant parts\n",
        "\n",
        "Focuses on what an object does\n",
        "\n",
        "To simplify usage and reduce complexity\n",
        "\n",
        "Using abstract classes or interfaces\n",
        "\n",
        "\n",
        "Encapsulation\n",
        "\n",
        "Hides internal data, restricts direct access\n",
        "\n",
        "Focuses on how data is protected\n",
        "\n",
        "To secure data and prevent unintended access\n",
        "\n",
        "Using private variables and getters/setters\n",
        "\n",
        "\n",
        "5 What are the dunder methods in Python ?\n",
        "\n",
        "Answer-- Dunder methods (short for \"double underscore\" methods) are special methods in Python with names that start and end with double underscores (like __init__, __str__, etc.).\n",
        "\n",
        "\n",
        "\n",
        "6. Explain the concept of inheritance in OOP ?\n",
        "Answer-- Inheritance is a key concept in OOP that allows a class (called a child or subclass) to inherit the attributes and methods of another class (called a parent or superclass).\n",
        "\n",
        " It promotes code reuse, modularity, and extensibility.\n",
        "\n",
        "\n",
        "\n",
        " 7. What is polymorphism in OOP ?\n",
        "Answer-- Polymorphism means \"many forms\". In OOP, it refers to the ability of different classes to use the same method name but behave differently based on the object that is calling the method.\n",
        "\n",
        " Polymorphism allows for flexible and reusable code — you can write code that works on different types of objects without knowing their exact class.\n",
        "\n",
        " 8. How is encapsulation achieved in Python ?\n",
        "Answer-- Encapsulation in Python is the OOP principle of hiding internal object details and restricting direct access to some of its components. It helps protect object data and ensures it’s only accessed or modified in controlled ways.\n",
        "How to Achieve Encapsulation in Python:\n",
        "Python doesn’t have strict access modifiers like private, protected, or public, but it follows naming conventions to indicate the intended access level.\n",
        "\n",
        "\n",
        "9. What is a constructor in Python ?\n",
        "Answer-- A constructor is a special method in a Python class that is automatically called when an object is created from the class. It is used to initialize the object's attributes (set up initial state/data).\n",
        "\n",
        " Key Points:\n",
        "In Python, the constructor method is named __init__.\n",
        "\n",
        "It usually takes self as the first parameter (refers to the object being created).\n",
        "\n",
        "You can pass additional parameters to set initial values.\n",
        "\n",
        "\n",
        "\n",
        "\n",
        "10  What are class and static methods in Python ?\n",
        "\n",
        "Answer-- Both are special types of methods inside a class, but they behave differently and serve different purposes.\n",
        "\n",
        "1. Class Method\n",
        "Defined with the decorator @classmethod.\n",
        "\n",
        "Takes cls as the first parameter (which refers to the class itself, not the instance).\n",
        "\n",
        "Can access and modify class state (class variables).\n",
        "\n",
        "Can be called on the class itself, without creating an instance.\n",
        "\n",
        "2. Static Method\n",
        "Defined with the decorator @staticmethod.\n",
        "\n",
        "Does NOT take self or cls as a parameter.\n",
        "\n",
        "Behaves like a regular function, but belongs to the class's namespace.\n",
        "\n",
        "Can’t access or modify instance or class data.\n",
        "\n",
        "Used when you want a method logically related to the class but doesn’t need access to class or instance info.\n",
        "\n",
        "\n",
        "\n",
        "11 What is the method of overloading in Python ?\n",
        "\n",
        "Answer-- Method overloading is the ability to have multiple methods in the same class with the same name but different parameters (different number or types of arguments). It lets you define multiple ways to call a method depending on the input.\n",
        "\n",
        "\n",
        "12.  What is the method overriding in OOP ?\n",
        "\n",
        "Answer-- Method overriding happens when a child class provides its own version of a method that is already defined in its parent class. The child’s method replaces (or overrides) the parent’s method when called on an instance of the child.\n",
        " Why use method overriding?\n",
        "To customize or extend the behavior of a method inherited from a parent class.\n",
        "\n",
        "To implement polymorphism where different classes have different behaviors for the same method name.\n",
        "\n",
        "\n",
        "\n",
        "13.  What is a property decorator in Python ?\n",
        "\n",
        "Answer-- The property decorator @property is a built-in Python decorator that allows you to use methods like attributes. It’s a way to control access to instance variables while keeping the syntax simple and clean.\n",
        "\n",
        "\n",
        "\n",
        "14.  Why is polymorphism important in OOP ?\n",
        "\n",
        "Answer-- Code Flexibility and Extensibility\n",
        "Polymorphism lets you write generic code that can work with objects of different classes as long as they share the same interface (i.e., have methods with the same name). This makes your code easier to extend and maintain.\n",
        "\n",
        "Simplifies Code Maintenance\n",
        "You can add new classes with their own specific behavior without changing existing code that uses polymorphic methods.\n",
        "\n",
        "Supports Interface-Based Design\n",
        "You program to an interface, not an implementation — your functions or methods don't need to know the exact type of the object, just that it supports certain behaviors.\n",
        "Enables Dynamic Method Binding (Runtime Polymorphism)\n",
        "The method that gets executed depends on the actual object type at runtime, allowing for more dynamic and flexible programs.\n",
        "\n",
        "\n",
        "\n",
        "15.  What is an abstract class in Python ?\n",
        "\n",
        "Answer-- An abstract class is a class that cannot be instantiated directly and is designed to be a base class for other classes. It usually contains one or more abstract methods that must be implemented by any subclass.\n",
        "\n",
        " Why use Abstract Classes?\n",
        "To define a common interface for a group of related classes.\n",
        "\n",
        "To ensure that subclasses implement certain methods.\n",
        "\n",
        "To provide some default behavior while forcing implementation of others.\n",
        "\n",
        "\n",
        "\n",
        "16. What are the advantages of OOP ?\n",
        "Answer-- Advantages of OOP:\n",
        "Modularity\n",
        "\n",
        "Code is organized into separate objects/classes, making it easier to manage and understand.\n",
        "\n",
        "Reusability\n",
        "\n",
        "Classes and objects can be reused across programs or projects, saving time and effort.\n",
        "\n",
        "Scalability and Maintainability\n",
        "\n",
        "Easy to add new features or make changes with minimal impact on existing code.\n",
        "\n",
        "Encapsulation\n",
        "\n",
        "Protects data by bundling it with methods and restricting access, improving security and reducing bugs.\n",
        "\n",
        "Inheritance\n",
        "\n",
        "Enables new classes to inherit properties and behavior from existing classes, promoting code reuse and logical hierarchy.\n",
        "\n",
        "Polymorphism\n",
        "\n",
        "Allows methods to behave differently based on the object calling them, enabling flexible and dynamic code.\n",
        "\n",
        "Improved Productivity\n",
        "\n",
        "Clear structure and reuse reduce development time and improve code quality.\n",
        "\n",
        "Better Collaboration\n",
        "\n",
        "Object-oriented design models real-world entities, making it easier for teams to understand and collaborate on complex projects.\n",
        "\n",
        "\n",
        "\n",
        "\n",
        "17. What is the difference between a class variable and an instance variable ?\n",
        "Answer-- Class variable\n",
        "\n",
        "\tA variable shared by all instances of a class\n",
        "Belongs to the class itself\n",
        "\tDefined inside the class but outside any method\n",
        "Accessed via ClassName.variable or self.variable\n",
        "\tUsed to store data common to all instances\n",
        "\n",
        "Example - Counting the number of objects created\n",
        "\n",
        "\n",
        "Instance variable\n",
        "A variable unique to each individual object\n",
        "Belongs to the specific instance/object\n",
        "Defined inside methods, usually in the constructor (__init__)\n",
        "Accessed via self.variable\n",
        "Used to store data unique to each instance\n",
        "\n",
        "Example - Storing attributes like name, age specific to an object\n",
        "\n",
        "\n",
        "\n",
        "\n",
        "18. What is multiple inheritance in Python ?\n",
        "Answer-- Multiple inheritance is a feature in Python where a class can inherit attributes and methods from more than one parent class. This means a single child class can have multiple base classes.\n",
        "\n",
        "Why use multiple inheritance?\n",
        "To combine behaviors and features from multiple classes.\n",
        "\n",
        "To create more complex classes by reusing code from multiple sources.\n",
        "\n",
        "\n",
        "\n",
        "\n",
        "19.  Explain the purpose of ‘’__str__’ and ‘__repr__’ ‘ methods in Python ?\n",
        "\n",
        "Answer-- 1. __repr__ (Representation)\n",
        "Aim: Provide an unambiguous string representation of the object, ideally one that could be used to recreate the object.\n",
        "\n",
        "Used mainly for developers/debugging.\n",
        "\n",
        "Called by the repr() function and when you inspect the object in the interpreter.\n",
        "\n",
        "2. __str__ (String)\n",
        "Aim: Provide a readable, user-friendly string representation of the object.\n",
        "\n",
        "Used mainly for end-users.\n",
        "\n",
        "Called by the str() function and when you print the object.\n",
        "\n",
        "\n",
        "\n",
        "\n",
        "20. What is the significance of the ‘super()’ function in Python ?\n",
        "Answer--\n",
        "The super() function returns a temporary object that allows you to call methods from a parent (or superclass) in a child (subclass) class.\n",
        "\n",
        "Why is super() important?\n",
        "Access Parent Class Methods\n",
        "\n",
        "Enables calling overridden methods from the parent class inside the child class.\n",
        "\n",
        "Supports Multiple Inheritance\n",
        "\n",
        "Helps Python follow the Method Resolution Order (MRO) correctly, ensuring the right parent method is called in complex inheritance hierarchies.\n",
        "\n",
        "Avoids Hardcoding Parent Class Name\n",
        "\n",
        "Makes your code more maintainable because you don’t need to explicitly name the parent class.\n",
        "\n",
        "\n",
        "\n",
        "\n",
        "21. What is the significance of the __del__ method in Python ?\n",
        "Answer--\n",
        "The __del__ method is known as the destructor in Python.\n",
        "\n",
        "It is a special method that is called when an object is about to be destroyed (garbage collected).\n",
        "\n",
        "Allows you to perform cleanup actions like closing files, releasing resources, or other final tasks before the object is removed from memory.\n",
        "\n",
        "When is __del__ called?\n",
        "When an object’s reference count drops to zero (no references to the object remain).\n",
        "\n",
        "When the Python interpreter exits (in some cases).\n",
        "\n",
        "Important notes:\n",
        "You should not rely heavily on __del__ for important cleanup because the timing of its call is unpredictable.\n",
        "\n",
        "In complex programs, circular references can delay or prevent __del__ from being called.\n",
        "\n",
        "It’s often better to use context managers (with statements) or explicit cleanup methods.\n",
        "\n",
        "\n",
        "\n",
        "22.  What is the significance of the __del__ method in Python ?\n",
        "\n",
        "Answer--\n",
        "The __del__ method in Python is a special method called a destructor. It’s automatically invoked when an object is about to be destroyed, typically when there are no more references to it. Its main purpose is to allow the object to perform any necessary cleanup actions like releasing external resources (files, network connections, etc.) before the object is removed from memory.\n",
        "\n",
        "Key points about __del__:\n",
        "Called when an object is garbage collected.\n",
        "\n",
        "Useful for cleaning up resources (e.g., closing files).\n",
        "\n",
        "The exact time when __del__ is called is not guaranteed.\n",
        "\n",
        "If there are circular references, __del__ may not be called immediately.\n",
        "\n",
        "It’s generally better to use context managers (with statement) for resource management, as they offer more predictable cleanup."
      ],
      "metadata": {
        "id": "Yb42XC2CNKrw"
      }
    },
    {
      "cell_type": "markdown",
      "source": [
        "23. What is the difference between @staticmethod and @classmethod in Python ?\n",
        "Answer--\n",
        "staticmethod\n",
        "Does not receive any implicit first argument (neither self nor cls).\n",
        "\n",
        "Behaves like a regular function but lives inside the class namespace.\n",
        "\n",
        "Cannot access instance (self) or class (cls) variables/methods directly.\n",
        "\n",
        "Called using the class name or an instance.\n",
        "\n",
        "@classmethod\n",
        "Receives the class itself as the first argument, conventionally named cls.\n",
        "\n",
        "Can access and modify class state that applies across all instances.\n",
        "\n",
        "Useful for factory methods or methods that affect the class as a whole.\n",
        "\n",
        "Called using the class name or an instance.\n",
        "\n",
        "\n",
        "\n",
        "24. What is the method chaining in Python OOP ?\n",
        "\n",
        "\n",
        "Answer--\n",
        "Method chaining is a technique where multiple method calls are made in a single line, one after another, on the same object. Each method returns the object itself (self), so you can call the next method directly.\n",
        "\n",
        "Why use method chaining?\n",
        "Makes code more concise and readable.\n",
        "\n",
        "Allows a fluent interface style.\n",
        "\n",
        "Common in libraries like pandas, SQLAlchemy, or GUI toolkits.\n",
        "\n",
        "How to implement method chaining?\n",
        "Design your class methods to return self after performing their operation.\n",
        "\n",
        "\n",
        "\n",
        "25. What is the purpose of the __call__ method in Python?\n",
        "\n",
        "Answer--\n",
        "The __call__ method allows an instance of a class to be called like a function. When you define __call__ inside a class, you can use the object itself as if it were a function.\n",
        "\n",
        "Why use __call__?\n",
        "To make objects callable.\n",
        "\n",
        "Useful for implementing function-like behavior with objects.\n",
        "\n",
        "Handy in situations like callbacks, decorators, or stateful functions."
      ],
      "metadata": {
        "id": "eZGfOy7gOKtR"
      }
    },
    {
      "cell_type": "markdown",
      "source": [],
      "metadata": {
        "id": "bllcFBG0OR2Q"
      }
    }
  ]
}